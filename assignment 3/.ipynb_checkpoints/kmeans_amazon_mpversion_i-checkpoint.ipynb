{
 "cells": [
  {
   "cell_type": "code",
   "execution_count": 1,
   "metadata": {
    "collapsed": false
   },
   "outputs": [],
   "source": [
    "import numpy as np\n",
    "import pandas as pd\n",
    "import matplotlib.pyplot as plt\n",
    "%matplotlib inline\n",
    "from sklearn import metrics\n",
    "import sklearn.preprocessing as skp\n",
    "import sklearn.metrics.pairwise as smp"
   ]
  },
  {
   "cell_type": "code",
   "execution_count": 2,
   "metadata": {
    "collapsed": true
   },
   "outputs": [],
   "source": [
    "import pandas as pd\n",
    "\n",
    "class ProcessAmazon():\n",
    "    \"\"\"Read, filter, aggregate by ProductId, and generate X matrix\"\"\"\n",
    "\n",
    "    def __init__(self, raw_data_filename, num_reviews_filter):\n",
    "        \"\"\"Initialize attributes.\"\"\"\n",
    "        self.raw_data_filename = raw_data_filename\n",
    "        self.num_reviews_filter = num_reviews_filter\n",
    "        self.raw_data = self.read_and_report()\n",
    "        self.grouped_by_userid = self.group_by_userid()\n",
    "        self.filtered = self.filter_()\n",
    "        self.grouped_by_productid = self.group_by_productid()\n",
    "        self.X = self.write_X()\n",
    "    \n",
    "    def read_and_report(self):\n",
    "        \"\"\"Read Amazon csv, report on file structure\"\"\"\n",
    "        data = pd.read_csv(self.raw_data_filename)\n",
    "        print(self.raw_data_filename, \"has\", data.shape[0], \"rows and\", data.shape[1], \"columns. First five observations:\")\n",
    "        print(data.head(5))\n",
    "        print(50 * '-')\n",
    "        return data\n",
    "    \n",
    "    def group_by_userid(self):\n",
    "        \"\"\"Group by UserId and look at the distribution of number of reviews\"\"\"\n",
    "        grouped_by_uid = self.raw_data.groupby('UserId').count()\n",
    "        print('Distribution of number of reviews for each UserId:')\n",
    "        print(grouped_by_uid['ProductId'].value_counts())\n",
    "        print(50 * '-')\n",
    "        return grouped_by_uid\n",
    "    \n",
    "    def filter_(self):\n",
    "        \"\"\"Filter out reviewers with fewer than x reviews\"\"\"\n",
    "        filtered = self.grouped_by_userid[self.grouped_by_userid['Id'] > self.num_reviews_filter]\n",
    "        # remove redundant columns\n",
    "        filtered_final = filtered.drop(filtered.columns[[1, 2, 3, 4, 5, 6, 7, 8, 9, 10, 11]], axis=1)\n",
    "        # recreate UserId from index\n",
    "        filtered_final['UserId'] = filtered_final.index\n",
    "        # rename columns\n",
    "        filtered_final.columns = ['num_reviews', 'UserId']\n",
    "        # left merge filtered list with raw data\n",
    "        filtered = pd.merge(filtered_final, self.raw_data, how='left', on='UserId')\n",
    "        print(\"Filtered data has\", filtered.shape[0], \"rows and\", filtered.shape[1], \"columns. First five observations:\")\n",
    "        print(filtered.head(5))\n",
    "        print(50 * '-')\n",
    "        return filtered\n",
    "    \n",
    "    def group_by_productid(self):\n",
    "        \"\"\"Group by ProductId and create a column that lists each UserId (separated by spaces) who reviewed that product\"\"\"\n",
    "        grouped_by_pid = self.filtered.groupby('ProductId')['UserId'].apply(lambda x: ' '.join(x)).reset_index()\n",
    "        print(\"Data grouped by ProductId has\", grouped_by_pid.shape[0], \"rows and\", grouped_by_pid.shape[1], \"columns. First five observations:\")\n",
    "        print(grouped_by_pid.head(5))\n",
    "        print(50 * '-')\n",
    "        return grouped_by_pid\n",
    "    \n",
    "    def write_X(self):\n",
    "        \"\"\"use bag of words to create boolean X to represent reviews by UserId (one UserId per column)\"\"\"\n",
    "        from sklearn.feature_extraction.text import CountVectorizer\n",
    "        count = CountVectorizer()\n",
    "        uidArray = self.grouped_by_productid.UserId.as_matrix()\n",
    "        userFeatures = count.fit_transform(uidArray)\n",
    "        print(\"Shape of final X matrix:\", userFeatures.shape)\n",
    "        return userFeatures"
   ]
  },
  {
   "cell_type": "code",
   "execution_count": 3,
   "metadata": {
    "collapsed": true
   },
   "outputs": [],
   "source": [
    "import pandas as pd\n",
    "class ViewClusteringResults():\n",
    "    \"\"\"Merge cluster definitions to raw data and view samples of clustering results, showing review summaries and texts.\"\"\"\n",
    "    \n",
    "    def __init__(self, data_instance, model_instance):\n",
    "        \"\"\"Initialize attributes\"\"\"\n",
    "        self.data_instance = data_instance\n",
    "        self.model_instance = model_instance\n",
    "    \n",
    "    def merge_labels(self):\n",
    "        \"\"\"Merge cluster labels to raw data (as structured in Amazon.csv)\"\"\"\n",
    "        labels_tomerge = pd.DataFrame(self.model_instance.labels_)\n",
    "        labelled_products = pd.concat([self.data_instance.grouped_by_productid, labels_tomerge], axis=1, ignore_index=True)\n",
    "        labelled_products.columns = ['ProductId', 'UserIds', 'cluster']\n",
    "        merged = pd.merge(labelled_products, self.data_instance.raw_data, how='left', on='ProductId')\n",
    "        merged_lite = merged[['ProductId', 'cluster', 'Summary', 'Text']]\n",
    "        return merged_lite\n",
    "\n",
    "    def view_cluster_samples(self, n_samples):\n",
    "        \"\"\"Print x samples of cluster results for each cluster, showing details of product reviews.\"\"\"\n",
    "        merged = self.merge_labels()\n",
    "        num_clusters = self.model_instance.cluster_centers_.shape[0]\n",
    "        for i in range(1, num_clusters): \n",
    "            print(50 * '-')\n",
    "            print('cluster: ', i)\n",
    "            cluster = merged.loc[merged['cluster'] == i]\n",
    "            print('cluster size: ', cluster.shape)\n",
    "            print(cluster.sample(n_samples))"
   ]
  },
  {
   "cell_type": "code",
   "execution_count": 4,
   "metadata": {
    "collapsed": false
   },
   "outputs": [
    {
     "name": "stdout",
     "output_type": "stream",
     "text": [
      "/Users/michelleponce/Dropbox/Amazon.csv has 455000 rows and 13 columns. First five observations:\n",
      "   Unnamed: 0      Id   ProductId          UserId       ProfileName  \\\n",
      "0      138806  138807  B000E63LME  A1CQGW1AOD0LF2  Alena K. \"Alena\"   \n",
      "1      469680  469681  B004ZIH4KM  A37S7U1OX2MCWI        Becky Cole   \n",
      "2      238202  238203  B003ZXE9QA  A2OM6G73E64EQ9              jeff   \n",
      "3      485307  485308  B001RVFERK  A25W349EE97NBK          Tangent4   \n",
      "4      375283  375284  B000OQZNTS  A3CPPW0HUC07YS       Amy Nicolai   \n",
      "\n",
      "   HelpfulnessNumerator  HelpfulnessDenominator  Score        Time  \\\n",
      "0                     1                       2      2  1294185600   \n",
      "1                     0                       0      5  1349740800   \n",
      "2                     0                       0      5  1329264000   \n",
      "3                     1                       1      4  1248307200   \n",
      "4                     0                       0      5  1333238400   \n",
      "\n",
      "                     Summary  \\\n",
      "0           Not as pictured.   \n",
      "1                      seeds   \n",
      "2              I'm addicted!   \n",
      "3  I wanted to love these...   \n",
      "4    Excellent chamomile tea   \n",
      "\n",
      "                                                Text  helpScore helpful  \n",
      "0  I was looking forward to try cranberry apple f...        0.5   False  \n",
      "1  TY for everything.  The seeds arrived quickly,...        NaN   False  \n",
      "2  I've finally found the best cereal in the worl...        NaN   False  \n",
      "3  I originally bought these chips because I'd he...        1.0   False  \n",
      "4  Really excellent tea, flowers are visible in t...        NaN   False  \n",
      "--------------------------------------------------\n",
      "Distribution of number of reviews for each UserId:\n",
      "1      152249\n",
      "2       28392\n",
      "3       12758\n",
      "4        8038\n",
      "5        4586\n",
      "6        3133\n",
      "7        2273\n",
      "8        1623\n",
      "9        1201\n",
      "10        948\n",
      "11        699\n",
      "12        573\n",
      "13        461\n",
      "14        324\n",
      "15        262\n",
      "16        201\n",
      "17        172\n",
      "18        170\n",
      "19        149\n",
      "20        145\n",
      "21        126\n",
      "22        110\n",
      "23         77\n",
      "24         72\n",
      "25         68\n",
      "26         50\n",
      "27         44\n",
      "28         40\n",
      "31         33\n",
      "29         31\n",
      "        ...  \n",
      "107         1\n",
      "138         1\n",
      "105         1\n",
      "126         1\n",
      "101         1\n",
      "124         1\n",
      "356         1\n",
      "109         1\n",
      "171         1\n",
      "95          1\n",
      "157         1\n",
      "66          1\n",
      "71          1\n",
      "72          1\n",
      "293         1\n",
      "204         1\n",
      "80          1\n",
      "81          1\n",
      "158         1\n",
      "85          1\n",
      "145         1\n",
      "65          1\n",
      "342         1\n",
      "87          1\n",
      "320         1\n",
      "89          1\n",
      "90          1\n",
      "68          1\n",
      "93          1\n",
      "127         1\n",
      "Name: ProductId, dtype: int64\n",
      "--------------------------------------------------\n",
      "Filtered data has 152611 rows and 14 columns. First five observations:\n",
      "   num_reviews          UserId  Unnamed: 0      Id   ProductId  \\\n",
      "0            7  A100IC7JRCQDUD      490420  490421  B000CQE3IC   \n",
      "1            7  A100IC7JRCQDUD      163199  163200  B000CQID1A   \n",
      "2            7  A100IC7JRCQDUD      560454  560455  B000CQID1K   \n",
      "3            7  A100IC7JRCQDUD      273658  273659  B00250M2ZY   \n",
      "4            7  A100IC7JRCQDUD       45101   45102  B00016Q6BK   \n",
      "\n",
      "                                        ProfileName  HelpfulnessNumerator  \\\n",
      "0  Joel Elmer Coldwater III \"Research For The Best\"                     0   \n",
      "1  Joel Elmer Coldwater III \"Research For The Best\"                     0   \n",
      "2  Joel Elmer Coldwater III \"Research For The Best\"                     0   \n",
      "3  Joel Elmer Coldwater III \"Research For The Best\"                     1   \n",
      "4  Joel Elmer Coldwater III \"Research For The Best\"                     0   \n",
      "\n",
      "   HelpfulnessDenominator  Score        Time  \\\n",
      "0                       0      5  1307923200   \n",
      "1                       0      5  1307923200   \n",
      "2                       0      5  1307923200   \n",
      "3                       1      3  1307923200   \n",
      "4                       0      5  1301616000   \n",
      "\n",
      "                                    Summary  \\\n",
      "0  Whats not to like? Snap into a slim jim.   \n",
      "1  Whats not to like? Snap into a slim jim.   \n",
      "2  Whats not to like? Snap into a slim jim.   \n",
      "3                   A little stale tasting.   \n",
      "4               This is a 1 lb bag of alum.   \n",
      "\n",
      "                                                Text  helpScore helpful  \n",
      "0  If you like slim Jims, you will like 100 slim ...        NaN   False  \n",
      "1  If you like slim Jims, you will like 100 slim ...        NaN   False  \n",
      "2  If you like slim Jims, you will like 100 slim ...        NaN   False  \n",
      "3  I bought these to replace the typical mint i b...        1.0   False  \n",
      "4  I use this for hygentic reasons as well as for...        NaN   False  \n",
      "--------------------------------------------------\n",
      "Data grouped by ProductId has 28199 rows and 2 columns. First five observations:\n",
      "    ProductId                                             UserId\n",
      "0  0006641040                      A367OXCD2R6MC1 A3R5XMPFU8YZ4D\n",
      "1  7310172001  A12L1NY994GXSF A12MGOJOF9FY8P A12OC9ZA779927 A...\n",
      "2  7310172101  A11Q5CEJES1CCM A129LFK27JMYB3 A12L1NY994GXSF A...\n",
      "3  7800648702                                      AR7TAEEUDHMUB\n",
      "4  B00002N8SM                      A29GWIJL72GXXZ A392XPUTJDHSDJ\n",
      "--------------------------------------------------\n",
      "Shape of final X matrix: (28199, 13438)\n"
     ]
    }
   ],
   "source": [
    "# process Amazon.csv, filtering out people who left 4 or fewer reviews\n",
    "amazonData = ProcessAmazon('/Users/michelleponce/Dropbox/Amazon.csv', 5)"
   ]
  },
  {
   "cell_type": "code",
   "execution_count": 5,
   "metadata": {
    "collapsed": false
   },
   "outputs": [],
   "source": [
    "# # first attempt at fitting K means to view change in Inertia\n",
    "# from sklearn.cluster import KMeans\n",
    "\n",
    "# # container to store inertia scores over iterations\n",
    "# distortions = []\n",
    "\n",
    "# # fit KMeans iteratively to begin to assess the appropriate number of clusters\n",
    "# for i in range(1, 11):\n",
    "#     km = KMeans(n_clusters=i)\n",
    "#     km.fit(amazonData.X)\n",
    "#     distortions.append(km.inertia_)\n",
    "    \n",
    "# # vizualize change in inertia\n",
    "# plt.plot(range(1, 11), distortions, marker='o')\n",
    "# plt.xlabel('Number of clusters')\n",
    "# plt.ylabel('Inertia')\n",
    "# plt.show()"
   ]
  },
  {
   "cell_type": "code",
   "execution_count": null,
   "metadata": {
    "collapsed": false
   },
   "outputs": [],
   "source": [
    "from sklearn.cluster import KMeans\n",
    "for i in range(1,16)\n",
    "    km = KMeans(n_clusters=i, max_iter=500, n_init=15, random_state=1)\n",
    "    km.fit(amazonData.X)\n",
    "#go look at max-iter and be more generous"
   ]
  },
  {
   "cell_type": "code",
   "execution_count": null,
   "metadata": {
    "collapsed": false
   },
   "outputs": [],
   "source": [
    "# create an instance of ViewClusteringResults to view results of final KMeans fit\n",
    "viz = ViewClusteringResults(amazonData, km)"
   ]
  },
  {
   "cell_type": "code",
   "execution_count": null,
   "metadata": {
    "collapsed": false,
    "scrolled": false
   },
   "outputs": [],
   "source": [
    "# view samples of product reviews, organized by KMeans cluster results\n",
    "viz.view_cluster_samples()"
   ]
  },
  {
   "cell_type": "code",
   "execution_count": 8,
   "metadata": {
    "collapsed": false,
    "scrolled": true
   },
   "outputs": [],
   "source": [
    "# print(amazonData.X.dtype)\n",
    "# print(amazonData.X.shape)"
   ]
  },
  {
   "cell_type": "code",
   "execution_count": 12,
   "metadata": {
    "collapsed": false
   },
   "outputs": [
    {
     "name": "stdout",
     "output_type": "stream",
     "text": [
      "[0 0 0 ..., 0 0 0]\n",
      "[[  2.50725313e-04   2.50725313e-04   6.80540134e-04 ...,   5.37268527e-04\n",
      "    2.14907411e-04   2.14907411e-04]\n",
      " [  0.00000000e+00   0.00000000e+00   0.00000000e+00 ...,   0.00000000e+00\n",
      "    0.00000000e+00   0.00000000e+00]\n",
      " [  0.00000000e+00   0.00000000e+00   0.00000000e+00 ...,   0.00000000e+00\n",
      "    0.00000000e+00   0.00000000e+00]\n",
      " ..., \n",
      " [  0.00000000e+00   0.00000000e+00   0.00000000e+00 ...,   0.00000000e+00\n",
      "    0.00000000e+00   0.00000000e+00]\n",
      " [  0.00000000e+00   0.00000000e+00   8.18181818e-01 ...,   0.00000000e+00\n",
      "    0.00000000e+00   0.00000000e+00]\n",
      " [  0.00000000e+00   0.00000000e+00   0.00000000e+00 ...,   0.00000000e+00\n",
      "    0.00000000e+00   0.00000000e+00]]\n"
     ]
    }
   ],
   "source": [
    "labels = km.labels_ \n",
    "centroids = km.cluster_centers_\n",
    "\n",
    "print(labels)\n",
    "print(centroids)\n"
   ]
  },
  {
   "cell_type": "code",
   "execution_count": 13,
   "metadata": {
    "collapsed": false
   },
   "outputs": [
    {
     "name": "stdout",
     "output_type": "stream",
     "text": [
      "[[  1.41493889  19.9814729    6.09644705 ...,  18.91305643  13.87637269\n",
      "   11.63977556]\n",
      " [ 11.87017764  23.20041507  13.22245565 ...,  22.28685047  18.20861661\n",
      "   16.56756998]\n",
      " [ 13.33702858  23.98456294  14.5544953  ...,  23.10202813  19.19775297\n",
      "   17.64891994]\n",
      " ..., \n",
      " [  1.99983247  20.03145674   6.25832779 ...,  18.96585626  13.94825147\n",
      "   11.72537313]\n",
      " [  7.74321787  21.30032168   9.75534042 ...,  20.26856716  15.78287596\n",
      "   13.9098661 ]\n",
      " [  2.99966145  20.15587406   6.64580068 ...,  19.09721717  14.1263484\n",
      "   11.93668191]]\n"
     ]
    }
   ],
   "source": [
    "amazonData_new = km.transform(amazonData.X)\n",
    "print(amazonData_new)"
   ]
  },
  {
   "cell_type": "code",
   "execution_count": null,
   "metadata": {
    "collapsed": false
   },
   "outputs": [],
   "source": [
    "ss = metrics.silhouette_samples(amazonData.X,labels)"
   ]
  },
  {
   "cell_type": "code",
   "execution_count": null,
   "metadata": {
    "collapsed": true
   },
   "outputs": [],
   "source": []
  }
 ],
 "metadata": {
  "kernelspec": {
   "display_name": "Python 3",
   "language": "python",
   "name": "python3"
  },
  "language_info": {
   "codemirror_mode": {
    "name": "ipython",
    "version": 3
   },
   "file_extension": ".py",
   "mimetype": "text/x-python",
   "name": "python",
   "nbconvert_exporter": "python",
   "pygments_lexer": "ipython3",
   "version": "3.6.0"
  }
 },
 "nbformat": 4,
 "nbformat_minor": 0
}
