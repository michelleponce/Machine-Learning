{
 "cells": [
  {
   "cell_type": "code",
   "execution_count": 1,
   "metadata": {
    "collapsed": false
   },
   "outputs": [],
   "source": [
    "import numpy as np\n",
    "import pandas as pd\n",
    "import matplotlib.pyplot as plt\n",
    "%matplotlib inline\n",
    "from sklearn import metrics\n",
    "import sklearn.preprocessing as skp\n",
    "import sklearn.metrics.pairwise as smp\n",
    "from sklearn.cluster import KMeans"
   ]
  },
  {
   "cell_type": "code",
   "execution_count": 2,
   "metadata": {
    "collapsed": true
   },
   "outputs": [],
   "source": [
    "import pandas as pd\n",
    "\n",
    "class ProcessAmazon():\n",
    "    \"\"\"Read, filter, aggregate by ProductId, and generate X matrix\"\"\"\n",
    "\n",
    "    def __init__(self, raw_data_filename, num_reviews_filter):\n",
    "        \"\"\"Initialize attributes.\"\"\"\n",
    "        self.raw_data_filename = raw_data_filename\n",
    "        self.num_reviews_filter = num_reviews_filter\n",
    "        self.raw_data = self.read_and_report()\n",
    "        self.grouped_by_userid = self.group_by_userid()\n",
    "        self.filtered = self.filter_()\n",
    "        self.grouped_by_productid = self.group_by_productid()\n",
    "        self.X = self.write_X()\n",
    "    \n",
    "    def read_and_report(self):\n",
    "        \"\"\"Read Amazon csv, report on file structure\"\"\"\n",
    "        data = pd.read_csv(self.raw_data_filename)\n",
    "        print(self.raw_data_filename, \"has\", data.shape[0], \"rows and\", data.shape[1], \"columns. First five observations:\")\n",
    "        print(data.head(5))\n",
    "        print(50 * '-')\n",
    "        return data\n",
    "    \n",
    "    def group_by_userid(self):\n",
    "        \"\"\"Group by UserId and look at the distribution of number of reviews\"\"\"\n",
    "        grouped_by_uid = self.raw_data.groupby('UserId').count()\n",
    "        print('Distribution of number of reviews for each UserId:')\n",
    "        print(grouped_by_uid['ProductId'].value_counts())\n",
    "        print(50 * '-')\n",
    "        return grouped_by_uid\n",
    "    \n",
    "    def filter_(self):\n",
    "        \"\"\"Filter out reviewers with fewer than x reviews\"\"\"\n",
    "        filtered = self.grouped_by_userid[self.grouped_by_userid['Id'] > self.num_reviews_filter]\n",
    "        # remove redundant columns\n",
    "        filtered_final = filtered.drop(filtered.columns[[1, 2, 3, 4, 5, 6, 7, 8, 9, 10, 11]], axis=1)\n",
    "        # recreate UserId from index\n",
    "        filtered_final['UserId'] = filtered_final.index\n",
    "        # rename columns\n",
    "        filtered_final.columns = ['num_reviews', 'UserId']\n",
    "        # left merge filtered list with raw data\n",
    "        filtered = pd.merge(filtered_final, self.raw_data, how='left', on='UserId')\n",
    "        print(\"Filtered data has\", filtered.shape[0], \"rows and\", filtered.shape[1], \"columns. First five observations:\")\n",
    "        print(filtered.head(5))\n",
    "        print(50 * '-')\n",
    "        return filtered\n",
    "    \n",
    "    def group_by_productid(self):\n",
    "        \"\"\"Group by ProductId and create a column that lists each UserId (separated by spaces) who reviewed that product\"\"\"\n",
    "        grouped_by_pid = self.filtered.groupby('ProductId')['UserId'].apply(lambda x: ' '.join(x)).reset_index()\n",
    "        print(\"Data grouped by ProductId has\", grouped_by_pid.shape[0], \"rows and\", grouped_by_pid.shape[1], \"columns. First five observations:\")\n",
    "        print(grouped_by_pid.head(5))\n",
    "        print(50 * '-')\n",
    "        return grouped_by_pid\n",
    "    \n",
    "    def write_X(self):\n",
    "        \"\"\"use bag of words to create boolean X to represent reviews by UserId (one UserId per column)\"\"\"\n",
    "        from sklearn.feature_extraction.text import CountVectorizer\n",
    "        count = CountVectorizer()\n",
    "        uidArray = self.grouped_by_productid.UserId.as_matrix()\n",
    "        userFeatures = count.fit_transform(uidArray)\n",
    "        print(\"Shape of final X matrix:\", userFeatures.shape)\n",
    "        return userFeatures"
   ]
  },
  {
   "cell_type": "code",
   "execution_count": 3,
   "metadata": {
    "collapsed": true
   },
   "outputs": [],
   "source": [
    "import pandas as pd\n",
    "class ViewClusteringResults():\n",
    "    \"\"\"Merge cluster definitions to raw data and view samples of clustering results, showing review summaries and texts.\"\"\"\n",
    "    \n",
    "    def __init__(self, data_instance, model_instance):\n",
    "        \"\"\"Initialize attributes\"\"\"\n",
    "        self.data_instance = data_instance\n",
    "        self.model_instance = model_instance\n",
    "    \n",
    "    def merge_labels(self):\n",
    "        \"\"\"Merge cluster labels to raw data (as structured in Amazon.csv)\"\"\"\n",
    "        labels_tomerge = pd.DataFrame(self.model_instance.labels_)\n",
    "        labelled_products = pd.concat([self.data_instance.grouped_by_productid, labels_tomerge], axis=1, ignore_index=True)\n",
    "        labelled_products.columns = ['ProductId', 'UserIds', 'cluster']\n",
    "        merged = pd.merge(labelled_products, self.data_instance.raw_data, how='left', on='ProductId')\n",
    "        merged_lite = merged[['ProductId', 'cluster', 'Summary', 'Text']]\n",
    "        return merged_lite\n",
    "\n",
    "    def view_cluster_samples(self, n_samples):\n",
    "        \"\"\"Print x samples of cluster results for each cluster, showing details of product reviews.\"\"\"\n",
    "        merged = self.merge_labels()\n",
    "        num_clusters = self.model_instance.cluster_centers_.shape[0]\n",
    "        for i in range(1, num_clusters): \n",
    "            print(50 * '-')\n",
    "            print('cluster: ', i)\n",
    "            cluster = merged.loc[merged['cluster'] == i]\n",
    "            print('cluster size: ', cluster.shape)\n",
    "            print(cluster.sample(n_samples))"
   ]
  },
  {
   "cell_type": "code",
   "execution_count": 4,
   "metadata": {
    "collapsed": false
   },
   "outputs": [
    {
     "name": "stdout",
     "output_type": "stream",
     "text": [
      "/Users/michelleponce/Dropbox/Amazon.csv has 455000 rows and 13 columns. First five observations:\n",
      "   Unnamed: 0      Id   ProductId          UserId       ProfileName  \\\n",
      "0      138806  138807  B000E63LME  A1CQGW1AOD0LF2  Alena K. \"Alena\"   \n",
      "1      469680  469681  B004ZIH4KM  A37S7U1OX2MCWI        Becky Cole   \n",
      "2      238202  238203  B003ZXE9QA  A2OM6G73E64EQ9              jeff   \n",
      "3      485307  485308  B001RVFERK  A25W349EE97NBK          Tangent4   \n",
      "4      375283  375284  B000OQZNTS  A3CPPW0HUC07YS       Amy Nicolai   \n",
      "\n",
      "   HelpfulnessNumerator  HelpfulnessDenominator  Score        Time  \\\n",
      "0                     1                       2      2  1294185600   \n",
      "1                     0                       0      5  1349740800   \n",
      "2                     0                       0      5  1329264000   \n",
      "3                     1                       1      4  1248307200   \n",
      "4                     0                       0      5  1333238400   \n",
      "\n",
      "                     Summary  \\\n",
      "0           Not as pictured.   \n",
      "1                      seeds   \n",
      "2              I'm addicted!   \n",
      "3  I wanted to love these...   \n",
      "4    Excellent chamomile tea   \n",
      "\n",
      "                                                Text  helpScore helpful  \n",
      "0  I was looking forward to try cranberry apple f...        0.5   False  \n",
      "1  TY for everything.  The seeds arrived quickly,...        NaN   False  \n",
      "2  I've finally found the best cereal in the worl...        NaN   False  \n",
      "3  I originally bought these chips because I'd he...        1.0   False  \n",
      "4  Really excellent tea, flowers are visible in t...        NaN   False  \n",
      "--------------------------------------------------\n",
      "Distribution of number of reviews for each UserId:\n",
      "1      152249\n",
      "2       28392\n",
      "3       12758\n",
      "4        8038\n",
      "5        4586\n",
      "6        3133\n",
      "7        2273\n",
      "8        1623\n",
      "9        1201\n",
      "10        948\n",
      "11        699\n",
      "12        573\n",
      "13        461\n",
      "14        324\n",
      "15        262\n",
      "16        201\n",
      "17        172\n",
      "18        170\n",
      "19        149\n",
      "20        145\n",
      "21        126\n",
      "22        110\n",
      "23         77\n",
      "24         72\n",
      "25         68\n",
      "26         50\n",
      "27         44\n",
      "28         40\n",
      "31         33\n",
      "29         31\n",
      "        ...  \n",
      "107         1\n",
      "138         1\n",
      "105         1\n",
      "126         1\n",
      "101         1\n",
      "124         1\n",
      "356         1\n",
      "109         1\n",
      "171         1\n",
      "95          1\n",
      "157         1\n",
      "66          1\n",
      "71          1\n",
      "72          1\n",
      "293         1\n",
      "204         1\n",
      "80          1\n",
      "81          1\n",
      "158         1\n",
      "85          1\n",
      "145         1\n",
      "65          1\n",
      "342         1\n",
      "87          1\n",
      "320         1\n",
      "89          1\n",
      "90          1\n",
      "68          1\n",
      "93          1\n",
      "127         1\n",
      "Name: ProductId, dtype: int64\n",
      "--------------------------------------------------\n",
      "Filtered data has 175541 rows and 14 columns. First five observations:\n",
      "   num_reviews          UserId  Unnamed: 0      Id   ProductId ProfileName  \\\n",
      "0            5  A1004703RC79J9       13147   13148  B002TMV34E  Dean Burns   \n",
      "1            5  A1004703RC79J9       62858   62859  B004OV6X6Q  Dean Burns   \n",
      "2            5  A1004703RC79J9       77035   77036  B001OCKIP0  Dean Burns   \n",
      "3            5  A1004703RC79J9      104098  104099  B001E50THY  Dean Burns   \n",
      "4            5  A1004703RC79J9      141772  141773  B003GTR8IO  Dean Burns   \n",
      "\n",
      "   HelpfulnessNumerator  HelpfulnessDenominator  Score        Time  \\\n",
      "0                     0                       0      3  1279411200   \n",
      "1                     0                       0      2  1313625600   \n",
      "2                     1                       1      4  1247702400   \n",
      "3                     9                      11      5  1205625600   \n",
      "4                     0                       0      4  1292457600   \n",
      "\n",
      "        Summary                                               Text  helpScore  \\\n",
      "0   Good Coffee  This is good coffee, but nothing to write home...        NaN   \n",
      "1    No seconds  I received this product through the vine progr...        NaN   \n",
      "2    Just Right  I'm not a big granola fan, but this stuff is V...   1.000000   \n",
      "3  Great Coffee  I love the coffee.  It's all I drink since I d...   0.818182   \n",
      "4   Really Good  I received this coffee through the Vine progra...        NaN   \n",
      "\n",
      "  helpful  \n",
      "0   False  \n",
      "1   False  \n",
      "2   False  \n",
      "3   False  \n",
      "4   False  \n",
      "--------------------------------------------------\n",
      "Data grouped by ProductId has 30772 rows and 2 columns. First five observations:\n",
      "    ProductId                                             UserId\n",
      "0  0006641040       A1S3C5OFU508P3 A367OXCD2R6MC1 A3R5XMPFU8YZ4D\n",
      "1  7310172001  A12L1NY994GXSF A12MGOJOF9FY8P A12OC9ZA779927 A...\n",
      "2  7310172101  A11Q5CEJES1CCM A129LFK27JMYB3 A12L1NY994GXSF A...\n",
      "3  7800648702                                      AR7TAEEUDHMUB\n",
      "4  B00002N8SM                      A29GWIJL72GXXZ A392XPUTJDHSDJ\n",
      "--------------------------------------------------\n",
      "Shape of final X matrix: (30772, 18024)\n"
     ]
    }
   ],
   "source": [
    "# process Amazon.csv, filtering out people who left 4 or fewer reviews\n",
    "amazonData = ProcessAmazon('/Users/michelleponce/Dropbox/Amazon.csv', 4)"
   ]
  },
  {
   "cell_type": "code",
   "execution_count": 5,
   "metadata": {
    "collapsed": false
   },
   "outputs": [
    {
     "data": {
      "image/png": "[encoded data removed]",
      "text/plain": [
       "<matplotlib.figure.Figure at 0x113f25b00>"
      ]
     },
     "metadata": {},
     "output_type": "display_data"
    }
   ],
   "source": [
    "# first attempt at fitting K means to view change in Inertia\n",
    "from sklearn.cluster import KMeans\n",
    "\n",
    "# container to store inertia scores over iterations\n",
    "distortions = []\n",
    "\n",
    "# fit KMeans iteratively to begin to assess the appropriate number of clusters\n",
    "for i in range(1, 31):\n",
    "    km = KMeans(n_clusters=i, max_iter=500)\n",
    "    km.fit(amazonData.X)\n",
    "    distortions.append(km.inertia_)\n",
    "    \n",
    "# vizualize change in inertia\n",
    "plt.plot(range(1, 31), distortions, marker='o')\n",
    "plt.xlabel('Number of clusters')\n",
    "plt.ylabel('Inertia')\n",
    "plt.show()"
   ]
  },
  {
   "cell_type": "code",
   "execution_count": 6,
   "metadata": {
    "collapsed": false
   },
   "outputs": [
    {
     "data": {
      "text/plain": [
       "KMeans(algorithm='auto', copy_x=True, init='k-means++', max_iter=500,\n",
       "    n_clusters=28, n_init=10, n_jobs=1, precompute_distances='auto',\n",
       "    random_state=None, tol=0.0001, verbose=0)"
      ]
     },
     "execution_count": 6,
     "metadata": {},
     "output_type": "execute_result"
    }
   ],
   "source": [
    "km = KMeans(n_clusters=28, max_iter=500)\n",
    "km.fit(amazonData.X)"
   ]
  },
  {
   "cell_type": "code",
   "execution_count": 7,
   "metadata": {
    "collapsed": false
   },
   "outputs": [],
   "source": [
    "# create an instance of ViewClusteringResults to view results of final KMeans fit\n",
    "viz = ViewClusteringResults(amazonData, km)"
   ]
  },
  {
   "cell_type": "code",
   "execution_count": 10,
   "metadata": {
    "collapsed": false,
    "scrolled": false
   },
   "outputs": [],
   "source": [
    "# view samples of product reviews, organized by KMeans cluster results\n",
    "# viz.view_cluster_samples(28)\n",
    "# These 27 clusters had too many repititions. Will reduce to 15 clusters."
   ]
  },
  {
   "cell_type": "code",
   "execution_count": 11,
   "metadata": {
    "collapsed": false,
    "scrolled": true
   },
   "outputs": [
    {
     "data": {
      "text/plain": [
       "KMeans(algorithm='auto', copy_x=True, init='k-means++', max_iter=500,\n",
       "    n_clusters=16, n_init=10, n_jobs=1, precompute_distances='auto',\n",
       "    random_state=None, tol=0.0001, verbose=0)"
      ]
     },
     "execution_count": 11,
     "metadata": {},
     "output_type": "execute_result"
    }
   ],
   "source": [
    "km = KMeans(n_clusters=16, max_iter=500)\n",
    "km.fit(amazonData.X)"
   ]
  },
  {
   "cell_type": "code",
   "execution_count": 14,
   "metadata": {
    "collapsed": false
   },
   "outputs": [],
   "source": [
    "viz = ViewClusteringResults(amazonData, km)"
   ]
  },
  {
   "cell_type": "code",
   "execution_count": 15,
   "metadata": {
    "collapsed": false
   },
   "outputs": [],
   "source": [
    "#viz.view_cluster_samples(16)\n",
    "#these 15 clusters are still too repetitive, usually coffee is in more than one cluster. Will reduce to 11 clusters\n",
    "# and increase max_iter to 550"
   ]
  },
  {
   "cell_type": "code",
   "execution_count": 16,
   "metadata": {
    "collapsed": false
   },
   "outputs": [
    {
     "data": {
      "text/plain": [
       "KMeans(algorithm='auto', copy_x=True, init='k-means++', max_iter=550,\n",
       "    n_clusters=11, n_init=10, n_jobs=1, precompute_distances='auto',\n",
       "    random_state=None, tol=0.0001, verbose=0)"
      ]
     },
     "execution_count": 16,
     "metadata": {},
     "output_type": "execute_result"
    }
   ],
   "source": [
    "km = KMeans(n_clusters=11, max_iter=550)\n",
    "km.fit(amazonData.X)"
   ]
  },
  {
   "cell_type": "code",
   "execution_count": 17,
   "metadata": {
    "collapsed": true
   },
   "outputs": [],
   "source": [
    "viz = ViewClusteringResults(amazonData, km)"
   ]
  },
  {
   "cell_type": "code",
   "execution_count": 19,
   "metadata": {
    "collapsed": false
   },
   "outputs": [],
   "source": [
    "# viz.view_cluster_samples(11)\n",
    "# these 11 clusters did better but there was some repetition among the cat food. Will reduce to 8 clusters"
   ]
  },
  {
   "cell_type": "code",
   "execution_count": 50,
   "metadata": {
    "collapsed": false
   },
   "outputs": [
    {
     "data": {
      "text/plain": [
       "KMeans(algorithm='auto', copy_x=True, init='k-means++', max_iter=500,\n",
       "    n_clusters=7, n_init=10, n_jobs=1, precompute_distances='auto',\n",
       "    random_state=None, tol=0.0001, verbose=0)"
      ]
     },
     "execution_count": 50,
     "metadata": {},
     "output_type": "execute_result"
    }
   ],
   "source": [
    "km = KMeans(n_clusters=7, max_iter=500)\n",
    "km.fit(amazonData.X)"
   ]
  },
  {
   "cell_type": "code",
   "execution_count": 51,
   "metadata": {
    "collapsed": true
   },
   "outputs": [],
   "source": [
    "viz = ViewClusteringResults(amazonData, km)"
   ]
  },
  {
   "cell_type": "code",
   "execution_count": 52,
   "metadata": {
    "collapsed": false
   },
   "outputs": [
    {
     "name": "stdout",
     "output_type": "stream",
     "text": [
      "--------------------------------------------------\n",
      "cluster:  1\n",
      "cluster size:  (3270, 4)\n",
      "         ProductId  cluster                         Summary  \\\n",
      "283654  B003VXHGE6        1                        So good!   \n",
      "283116  B003VXFK44        1         Love this creamy coffee   \n",
      "284084  B003VXHGPK        1                      Ewwwww!!!!   \n",
      "305970  B004FGWU9O        1                        LOVE IT!   \n",
      "353448  B006N3IG4K        1                        Bad Cups   \n",
      "282889  B003VXFK44        1                      I liked it   \n",
      "283427  B003VXHGDM        1  Good taste but secretly  DECAF   \n",
      "\n",
      "                                                     Text  \n",
      "283654  I think this is a love it or hate it kind of c...  \n",
      "283116  This is my favorite KCup.  I'd describe it as ...  \n",
      "284084  Really?  Who blends this stuff and decides tha...  \n",
      "305970  It was a bit of a risk to order this, I mean w...  \n",
      "353448  Coffee tastes great, but the cups get torn apa...  \n",
      "282889  smooth.  I normally drink dark roasts but purc...  \n",
      "283427  Taste is good but in my opinion coffee that ha...  \n",
      "--------------------------------------------------\n",
      "cluster:  2\n",
      "cluster size:  (2553, 4)\n",
      "         ProductId  cluster                                       Summary  \\\n",
      "343648  B005VOONM6        2                     Coffee that hits the spot   \n",
      "341641  B005VOOLXM        2              Wonderful aroma, delicious taste   \n",
      "342314  B005VOOM4A        2  Excellent coffee in a great portable package   \n",
      "342062  B005VOOM2W        2     OK Coffee - Wasteful, Escessive Packaging   \n",
      "342491  B005VOOM5E        2                         Great Full Body Taste   \n",
      "343395  B005VOONLW        2         One Love, One Heart, One Great Coffee   \n",
      "343607  B005VOONM6        2                 Good neutral intensity coffee   \n",
      "\n",
      "                                                     Text  \n",
      "343648  This product makes a great cup of coffee. Just...  \n",
      "341641  This conveniently-sized pod fight perfectly in...  \n",
      "342314  I'm by no means a a coffee expert, but I do dr...  \n",
      "342062  I found the coffee in a single serving pod to ...  \n",
      "342491  I drink a lot of coffee and tea everyday, my n...  \n",
      "343395  Good coffee is in the palate of the coffee dri...  \n",
      "343607  I got this for my son-in-law and daughter who ...  \n",
      "--------------------------------------------------\n",
      "cluster:  3\n",
      "cluster size:  (1102, 4)\n",
      "         ProductId  cluster  \\\n",
      "273728  B003M5TG28        3   \n",
      "16467   B0006345PW        3   \n",
      "274656  B003MWBFMK        3   \n",
      "106583  B000QSN7P6        3   \n",
      "274604  B003MW7858        3   \n",
      "16481   B0006345PW        3   \n",
      "274608  B003MW7858        3   \n",
      "\n",
      "                                                  Summary  \\\n",
      "273728  Filler food is empty, leaves your cat always n...   \n",
      "16467       Don't fall prey to fads and anecdotal reviews   \n",
      "274656   Science Diet = terrible for cats, it's addictive   \n",
      "106583                                 Excellent cat food   \n",
      "274604                         The only thing that worked   \n",
      "16481      Great product, but trust your vet not the hype   \n",
      "274608                               Blotto cries for it!   \n",
      "\n",
      "                                                     Text  \n",
      "273728  This review will make me sound really stupid, ...  \n",
      "16467   I have two cats, one 6 and one 2 years old. Bo...  \n",
      "274656  My kitten--now a hefty 11 pound slug--went thr...  \n",
      "106583  My cat loves the taste of this food and is ver...  \n",
      "274604  I understand all the complaints about Science ...  \n",
      "16481   I have two cats, one 6 and one 2 years old. Bo...  \n",
      "274608  My cat has gingivitis, and he's only 2. My vet...  \n",
      "--------------------------------------------------\n",
      "cluster:  4\n",
      "cluster size:  (1326, 4)\n",
      "         ProductId  cluster                        Summary  \\\n",
      "266535  B003D4IYSU        4                    Great tea!!   \n",
      "267094  B003D4MYLS        4           Stash makes good tea   \n",
      "266926  B003D4MW38        4    Stash is the BEST Earl Grey   \n",
      "266392  B003D4IYSU        4          Nice chocolate flavor   \n",
      "267312  B003D4MYLS        4  NO TASTE! TERRIBLE PRODUCT!!!   \n",
      "266895  B003D4MW38        4                      very nice   \n",
      "266550  B003D4IYSU        4                      great tea   \n",
      "\n",
      "                                                     Text  \n",
      "266535  This tea is amazing -- and affordable!!! Licor...  \n",
      "267094  I really enjoy tea and drink two or three 16 o...  \n",
      "266926  If you like this tea you have to try the DOUBL...  \n",
      "266392  This tea has a nice chocolate flavor. I like t...  \n",
      "267312  I drink many types of teas, some hot and some ...  \n",
      "266895  I am a fall lover. Anything that brings me to ...  \n",
      "266550  My second most favorite tea of all,  love it. ...  \n",
      "--------------------------------------------------\n",
      "cluster:  5\n",
      "cluster size:  (1387, 4)\n",
      "         ProductId  cluster  \\\n",
      "119116  B000WFEN74        5   \n",
      "1740    B000084EZ4        5   \n",
      "120144  B000WFPJIG        5   \n",
      "120108  B000WFPJIG        5   \n",
      "119950  B000WFORH0        5   \n",
      "2036    B00008CQVA        5   \n",
      "119128  B000WFEN74        5   \n",
      "\n",
      "                                                  Summary  \\\n",
      "119116                    Great Option For Diabetic Cats!   \n",
      "1740                        Loved the first three cans...   \n",
      "120144                           Watch expiration dates!1   \n",
      "120108  Not to my cat's taste- but adding warm water h...   \n",
      "119950  Beef & Chicken canned Wellness didn't measure up.   \n",
      "2036                                    Canned Kitty food   \n",
      "119128  The Best Money can Buy for your Cat, Next to H...   \n",
      "\n",
      "                                                     Text  \n",
      "119116  My 14 year-old cat was diagnosed with Diabetes...  \n",
      "1740    After feeding my recently-acquired cat a case ...  \n",
      "120144  1st: my cats really don't eat this brand with ...  \n",
      "120108  I purchased this cat food after reading glowin...  \n",
      "119950  We've been ordering Wellness for one of our ca...  \n",
      "2036    One of my cats developed a urinary tract infec...  \n",
      "119128  I like to provide variety for the cats, howeve...  \n",
      "--------------------------------------------------\n",
      "cluster:  6\n",
      "cluster size:  (2481, 4)\n",
      "         ProductId  cluster  \\\n",
      "280587  B003TNANSO        6   \n",
      "375072  B008JKTTUA        6   \n",
      "156719  B001D09KAM        6   \n",
      "280621  B003TNANSO        6   \n",
      "157261  B001D0DMMY        6   \n",
      "374766  B008JKTH2A        6   \n",
      "156643  B001D09KAM        6   \n",
      "\n",
      "                                                  Summary  \\\n",
      "280587                       I won't order this one again   \n",
      "375072                                 Can't resist them!   \n",
      "156719  Cranberry & Almond - Tasty, natural and nutrit...   \n",
      "280621       Kind bars  cranberry almond and antioxidants   \n",
      "157261                                     So yummy !!!!!   \n",
      "374766                                        Scrumptious   \n",
      "156643               Great snack for on the go or at home   \n",
      "\n",
      "                                                     Text  \n",
      "280587  I'm a HUGE fan of Kind bars in general and hav...  \n",
      "375072  I frequently skip meals when I'm on the run.  ...  \n",
      "156719  At 190 calories, these bars provide a great ca...  \n",
      "280621  Love them,  heat them in the microwave for 7 s...  \n",
      "157261  My favorite flavor of kind bar.  The dark choc...  \n",
      "374766  There isn't a KIND Bar that I don't love!  The...  \n",
      "156643  Very good and filling to have at home as a sna...  \n"
     ]
    }
   ],
   "source": [
    "viz.view_cluster_samples(7)"
   ]
  },
  {
   "cell_type": "code",
   "execution_count": null,
   "metadata": {
    "collapsed": true
   },
   "outputs": [],
   "source": [
    "# I choose 6 clusters because this is the most comfortable I am with the \n",
    "# categories: \n",
    "coffeee, coffee, cat food,"
   ]
  }
 ],
 "metadata": {
  "kernelspec": {
   "display_name": "Python 3",
   "language": "python",
   "name": "python3"
  },
  "language_info": {
   "codemirror_mode": {
    "name": "ipython",
    "version": 3
   },
   "file_extension": ".py",
   "mimetype": "text/x-python",
   "name": "python",
   "nbconvert_exporter": "python",
   "pygments_lexer": "ipython3",
   "version": "3.6.0"
  }
 },
 "nbformat": 4,
 "nbformat_minor": 0
}
